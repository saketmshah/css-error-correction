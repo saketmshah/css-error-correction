{
 "cells": [
  {
   "cell_type": "code",
   "execution_count": 2,
   "id": "da418699",
   "metadata": {},
   "outputs": [],
   "source": [
    "from qiskit.circuit import QuantumCircuit, QuantumRegister, AncillaRegister, ClassicalRegister\n",
    "from qiskit.quantum_info import Statevector\n",
    "from qiskit.visualization import array_to_latex\n",
    "\n",
    "from qiskit_aer import AerSimulator\n",
    "from qiskit import transpile\n",
    "\n",
    "import numpy as np\n",
    "import matplotlib.pyplot as plt\n"
   ]
  },
  {
   "cell_type": "markdown",
   "id": "892da478",
   "metadata": {},
   "source": [
    "The purpose of this notebook is to implement error correction using a Hamming CSS code of type $[[15, 7, 3]]$ with self-dual matrix given below. The idea is to take a 15 qubit circuit, encode these 15 qubits into the logical zero according to the CSS code, apply a Pauli error channel of probability $p$ to each qubit and then to apply the error-correction algorithm. The single qubit perfect corrects any $X, Y$ or $Z$ error."
   ]
  },
  {
   "cell_type": "markdown",
   "id": "13413e43",
   "metadata": {},
   "source": [
    "The generator matrix we use for this error correction code is given by \n",
    "$$H = \\begin{bmatrix} 1 & 0 & 1 & 0 & 1 & 0 & 1 & 0 & 1 & 0 & 1 & 0 & 1 & 0 & 1 \\\\\n",
    "0 & 1 & 1 & 0 & 0 & 1 & 1 & 0 & 0 & 1 & 1 & 0 & 0 & 1 & 1 \\\\\n",
    "0 & 0 & 0 & 1 & 1 & 1 & 1 & 0 & 0 & 0 & 0 & 1 & 1 & 1 & 1 \\\\\n",
    "0 & 0 & 0 & 0 & 0 & 0 & 0 & 1 & 1 & 1 & 1 & 1 & 1 & 1 & 1\n",
    "\\end{bmatrix}.$$\n",
    "It is worth observing that in this form, the entries for the $i^\\text{th}$ column are precisely the bitstring representation for the number $i+1$. \n",
    "\n",
    "In the process of preparing the logical all-zero state for this error code, we also need to run Gaussian elimination on this matrix. We can do so by swapping the 3rd and 4th row of $H$ and then the 3rd and 8th column of $H$, which yields: \n",
    "\n",
    "$$H_{\\mathrm{std}} = \\begin{bmatrix} \n",
    "1 & 0 & 0 & 0 & 1 & 0 & 1 & 1 & 1 & 0 & 1 & 0 & 1 & 0 & 1 \\\\\n",
    "0 & 1 & 0 & 0 & 0 & 1 & 1 & 1 & 0 & 1 & 1 & 0 & 0 & 1 & 1 \\\\\n",
    "0 & 0 & 1 & 0 & 0 & 0 & 0 & 0 & 1 & 1 & 1 & 1 & 1 & 1 & 1 \\\\\n",
    "0 & 0 & 0 & 1 & 1 & 1 & 1 & 0 & 0 & 0 & 0 & 1 & 1 & 1 & 1 \\\\\n",
    "\\end{bmatrix}.$$"
   ]
  },
  {
   "cell_type": "code",
   "execution_count": 3,
   "id": "5e2ffea8",
   "metadata": {},
   "outputs": [],
   "source": [
    "# self-dual [[15, 7, 3]] Hamming code matrix representing H_X and H_Z\n",
    "\n",
    "H_matrix = [[1,0,1,0,1,0,1,0,1,0,1,0,1,0,1],[0,1,1,0,0,1,1,0,0,1,1,0,0,1,1],[0,0,0,1,1,1,1,0,0,0,0,1,1,1,1],[0,0,0,0,0,0,0,1,1,1,1,1,1,1,1]]\n",
    "\n",
    "# the matrix for generators consisting of X gates, after Gaussian elimination\n",
    "# swaps the 3rd and 4th generators above and swaps the 3rd and 8th qubits\n",
    "\n",
    "H_std = [[1,0,0,0,1,0,1,1,1,0,1,0,1,0,1],[0,1,0,0,0,1,1,1,0,1,1,0,0,1,1],[0,0,1,0,0,0,0,0,1,1,1,1,1,1,1],[0,0,0,1,1,1,1,0,0,0,0,1,1,1,1]]"
   ]
  },
  {
   "cell_type": "markdown",
   "id": "2681a044",
   "metadata": {},
   "source": [
    "We also include below the components of the logical all-zero state, which is constructed by the projection of the physical all-zero state to the intersection of the eigenspaces for eigenvalue 1 for each generator of the stabilizer group $S$. Equivalently, $|00\\cdots 0_L\\rangle = \\prod_{g \\in S} g|00\\cdots0\\rangle$. "
   ]
  },
  {
   "cell_type": "code",
   "execution_count": 4,
   "id": "ef15747a",
   "metadata": {},
   "outputs": [],
   "source": [
    "logical_zero_components = ['110000110011110',\n",
    " '011010011001011',\n",
    " '000000000000000',\n",
    " '101001010101101',\n",
    " '101010101010101',\n",
    " '010101011010101',\n",
    " '001100111100110',\n",
    " '100110010110011',\n",
    " '111111110000000',\n",
    " '111100001111000',\n",
    " '100101101001011',\n",
    " '110011001100110',\n",
    " '000011111111000',\n",
    " '010110100101101',\n",
    " '001111000011110',\n",
    " '011001100110011']"
   ]
  },
  {
   "cell_type": "markdown",
   "id": "97340e3d",
   "metadata": {},
   "source": [
    "Part of this requires us to apply a Pauli error channel on each of our encoding qubits (after they have been encoded into the logical all-zero state). We provide two ways of circuits which do this in some sense. The first, following one, is more truly random: we use ancilla qubits to create the state $\\sqrt{p}|00\\rangle + \\sqrt{p}|01\\rangle + \\sqrt{p}|01\\rangle + \\sqrt{1-3p}|11\\rangle$ and then measure this state; based on the outcome, we apply an $X, Y, Z$ or identity gate. "
   ]
  },
  {
   "cell_type": "code",
   "execution_count": 5,
   "id": "991a12a2",
   "metadata": {},
   "outputs": [],
   "source": [
    "# creates a Pauli error on a single qubit (with probability p for each of X, Y, or Z errors)\n",
    "# uses 2 clean ancillas to create the state sqrt(p)|00> + sqrt(p)|01> + sqrt(p)|01> + sqrt(1-3p)|11> \n",
    "# then measures and uses the result to implement the pauli error\n",
    "\n",
    "# input: \n",
    "# p : real number in [0,1/3] representing error probability\n",
    "\n",
    "def pauli_error(p):\n",
    "    error_register = QuantumRegister(1)\n",
    "    ancilla_register = AncillaRegister(2)\n",
    "    classical_register = ClassicalRegister(2)\n",
    "    qc = QuantumCircuit(error_register, ancilla_register, classical_register)\n",
    "\n",
    "    theta_0 = 2*np.arccos(np.sqrt(2*p))\n",
    "    theta_10 = 2*np.arccos(1/np.sqrt(2))\n",
    "    theta_11 = 2*np.arccos(np.sqrt(p/(1-2*p)))\n",
    "\n",
    "    # prepares the quantum state sqrt(p)|00> + sqrt(p)|01> + sqrt(p)|01> + \\sqrt(1-3p)|11> \n",
    "    # on the ancilla register\n",
    "    qc.ry(theta_0, ancilla_register[1])\n",
    "\n",
    "    qc.x(ancilla_register[1])\n",
    "    qc.cry(theta_10, ancilla_register[1], ancilla_register[0])\n",
    "    qc.x(ancilla_register[1])\n",
    "\n",
    "    qc.cry(theta_11, ancilla_register[1], ancilla_register[0])\n",
    "\n",
    "    # measure the probabilities and use the result of the measurement to do X, Y or Z \n",
    "    qc.measure(ancilla_register,classical_register)\n",
    "\n",
    "    with qc.if_test((classical_register,0)):\n",
    "        qc.x(error_register[0])\n",
    "    with qc.if_test((classical_register,1)):\n",
    "        qc.y(error_register[0])\n",
    "        qc.x(ancilla_register[0])\n",
    "    with qc.if_test((classical_register,2)):\n",
    "        qc.z(error_register[0])\n",
    "        qc.x(ancilla_register[1])\n",
    "    with qc.if_test((classical_register,3)):\n",
    "        qc.x(ancilla_register[:])\n",
    "    return qc"
   ]
  },
  {
   "cell_type": "markdown",
   "id": "1eea7618",
   "metadata": {},
   "source": [
    "The second is fundamentally much simpler, and just uses numpy to generate a random number to determine which gate appears. The downside is this only really generates a new random number when we construct the circuit, rather than each time we run the circuit. In particular, if one compiles this circuit and runs it for a thousand rounds, the outcome will be the same each time since we are just running the same circuit repeatedly and the randomness was only in the construction."
   ]
  },
  {
   "cell_type": "code",
   "execution_count": 6,
   "id": "68e88060",
   "metadata": {},
   "outputs": [],
   "source": [
    "def pauli_error_numpy(p):\n",
    "    qc = QuantumCircuit(1)\n",
    "    randnum = np.random.rand()\n",
    "    if randnum < p:\n",
    "        qc.x(0)\n",
    "    if randnum < 2*p:\n",
    "        qc.y(0)\n",
    "    if randnum < 3*p:\n",
    "        qc.z(0)\n",
    "    return qc "
   ]
  },
  {
   "cell_type": "markdown",
   "id": "d952cd4e",
   "metadata": {},
   "source": [
    "The following circuit is the main body of the code. \n",
    "Of its pieces, the first of interest is the construction of the all-zero logical qubit. We follow Gottesmann's algorithm, which appeared first in his [thesis](https://arxiv.org/pdf/quant-ph/9705052) (with some errata, though this ends up being irrelevant for our purposes). Since we are working with a CSS code, the algorithm simplifies considerably: we may ignore stabilizers acting only by Z gates, since these act trivially on the physical all-zero state. \n",
    "\n",
    "The second piece of interest is the application of the Pauli error channels on each qubit. \n",
    "\n",
    "Then, according to the H-matrices in the CSS error code we compute and measure the syndromes. \n",
    "\n",
    "Finally, based on the syndromes we correct the errors; since the $H_X$ and $H_Z$ matrices are the same as the code is a self-dual CSS code, we correct the $X$ and $Z$ errors in exactly the same way based on the $X$-syndromes and $Z$-syndromes respectively. 1-qubit $Y$ errors are corrected as up to a global phase they amount to an $X$-error following by a $Z$-error on the same qubit. "
   ]
  },
  {
   "cell_type": "code",
   "execution_count": 7,
   "id": "332ae58f",
   "metadata": {},
   "outputs": [],
   "source": [
    "# p : real number in [0,1/3] representing error probability\n",
    "\n",
    "def CSS_correction(p):\n",
    "\n",
    "    encoding_qubits = QuantumRegister(size = 15, name = \"CSS\")\n",
    "\n",
    "    pauli_error_ancilla = AncillaRegister(size = 2, name = 'pauli-err')\n",
    "    pauli_error_measurements = ClassicalRegister(size = 2, name = 'pauli-cl')\n",
    "\n",
    "    x_ancillas = AncillaRegister(size = 4, name = \"x ancillas\")\n",
    "    x_syndromes = ClassicalRegister(size = 4, name = \"x syndromes\")\n",
    "\n",
    "    z_ancillas = AncillaRegister(size = 4, name = \"z ancillas\")\n",
    "    z_syndromes = ClassicalRegister(size = 4, name = \"z syndromes\")\n",
    "\n",
    "    output_measurements = ClassicalRegister(size = 15, name = \"measurements\")\n",
    "\n",
    "    CSS_circuit = QuantumCircuit(encoding_qubits, x_ancillas, z_ancillas, x_syndromes, z_syndromes, \n",
    "                                output_measurements, pauli_error_ancilla, pauli_error_measurements,name=\"CSS circuit\")\n",
    "\n",
    "    # produce the all-zero logical qubit, using Gottesmann's algorithm\n",
    "    # because the Gaussian elimination involved swapping\n",
    "    # column 3 and column 8, we must swap qubits 3 and 8 at the end\n",
    "    # (really swapping indices 2 and 7 in the register)\n",
    "\n",
    "    \n",
    "    for i in range(4):\n",
    "        CSS_circuit.h(encoding_qubits[i])\n",
    "        for j in range(4,15):\n",
    "            if (H_std[i])[j] == 1:\n",
    "                CSS_circuit.cx(encoding_qubits[i],encoding_qubits[j])\n",
    "\n",
    "    CSS_circuit.swap(encoding_qubits[2], encoding_qubits[7])\n",
    "\n",
    "    # add in Pauli errors on each encoding qubit\n",
    "    # using the pauli_error_ancilla qubits and \n",
    "    # pauli_error_measurements clbits\n",
    "    for i in range(15):\n",
    "        CSS_circuit.compose(pauli_error(p),inplace=True, qubits = [encoding_qubits[i]] + pauli_error_ancilla[:], clbits = pauli_error_measurements[:])\n",
    "    \n",
    "\n",
    "    # produces and measures the X-syndromes\n",
    "    for syndrome_index, entry in enumerate(H_matrix):\n",
    "        for index, element in enumerate(entry):\n",
    "            if element:\n",
    "                CSS_circuit.cx(encoding_qubits[index], x_ancillas[syndrome_index])\n",
    "\n",
    "    CSS_circuit.measure(x_ancillas, x_syndromes)\n",
    "    \n",
    "    # produces and measures the Z-syndromes\n",
    "    CSS_circuit.h(z_ancillas[:])\n",
    "\n",
    "    for syndrome_index, entry in enumerate(H_matrix):\n",
    "        for index, element in enumerate(entry):\n",
    "            if element:\n",
    "                CSS_circuit.cx(z_ancillas[syndrome_index], encoding_qubits[index])\n",
    "    CSS_circuit.h(z_ancillas[:])\n",
    "\n",
    "    CSS_circuit.measure(z_ancillas, z_syndromes)\n",
    "\n",
    "    # corrects X-errors by examination of X-syndromes\n",
    "    for i in range(15):\n",
    "        with CSS_circuit.if_test((x_syndromes,i+1)):\n",
    "            CSS_circuit.x(encoding_qubits[i])\n",
    "    \n",
    "    # corrects Z-errors by examination of Z-syndromes\n",
    "    for i in range(15):\n",
    "        with CSS_circuit.if_test((z_syndromes,i+1)):\n",
    "            CSS_circuit.z(encoding_qubits[i])\n",
    "\n",
    "    # measures the output\n",
    "    CSS_circuit.measure(encoding_qubits, output_measurements)\n",
    "\n",
    "    return CSS_circuit\n",
    "    "
   ]
  },
  {
   "cell_type": "markdown",
   "id": "a16b231b",
   "metadata": {},
   "source": [
    "We provide below another version using the numpy implementation of the error channel. "
   ]
  },
  {
   "cell_type": "code",
   "execution_count": 8,
   "id": "9940a026",
   "metadata": {},
   "outputs": [],
   "source": [
    "# p : real number in [0,1/3] representing error probability\n",
    "\n",
    "def CSS_correction_numpy(p):\n",
    "\n",
    "    encoding_qubits = QuantumRegister(size = 15, name = \"CSS\")\n",
    "\n",
    "    x_ancillas = AncillaRegister(size = 4, name = \"x ancillas\")\n",
    "    x_syndromes = ClassicalRegister(size = 4, name = \"x syndromes\")\n",
    "\n",
    "    z_ancillas = AncillaRegister(size = 4, name = \"z ancillas\")\n",
    "    z_syndromes = ClassicalRegister(size = 4, name = \"z syndromes\")\n",
    "\n",
    "    output_measurements = ClassicalRegister(size = 15, name = \"measurements\")\n",
    "\n",
    "    CSS_circuit = QuantumCircuit(encoding_qubits, x_ancillas, z_ancillas, x_syndromes, z_syndromes, \n",
    "                                output_measurements, name=\"CSS circuit using numpy\")\n",
    "\n",
    "    # produce the all-zero logical qubit, using Gottesmann's algorithm\n",
    "    # because the Gaussian elimination involved swapping\n",
    "    # column 3 and column 8, we must swap qubits 3 and 8 at the end\n",
    "    # (really swapping indices 2 and 7 in the register)\n",
    "\n",
    "    \n",
    "    for i in range(4):\n",
    "        CSS_circuit.h(encoding_qubits[i])\n",
    "        for j in range(4,15):\n",
    "            if (H_std[i])[j] == 1:\n",
    "                CSS_circuit.cx(encoding_qubits[i],encoding_qubits[j])\n",
    "\n",
    "    CSS_circuit.swap(encoding_qubits[2], encoding_qubits[7])\n",
    "\n",
    "    # add in Pauli errors on each encoding qubit using numpy\n",
    "    for i in range(15):\n",
    "        CSS_circuit.compose(pauli_error_numpy(p),inplace=True, qubits = [encoding_qubits[i]])\n",
    "    \n",
    "\n",
    "    # produces and measures the X-syndromes\n",
    "    for syndrome_index, entry in enumerate(H_matrix):\n",
    "        for index, element in enumerate(entry):\n",
    "            if element:\n",
    "                CSS_circuit.cx(encoding_qubits[index], x_ancillas[syndrome_index])\n",
    "\n",
    "    CSS_circuit.measure(x_ancillas, x_syndromes)\n",
    "    \n",
    "    # produces and measures the Z-syndromes\n",
    "    CSS_circuit.h(z_ancillas[:])\n",
    "\n",
    "    for syndrome_index, entry in enumerate(H_matrix):\n",
    "        for index, element in enumerate(entry):\n",
    "            if element:\n",
    "                CSS_circuit.cx(z_ancillas[syndrome_index], encoding_qubits[index])\n",
    "    CSS_circuit.h(z_ancillas[:])\n",
    "\n",
    "    CSS_circuit.measure(z_ancillas, z_syndromes)\n",
    "\n",
    "    # corrects X-errors by examination of X-syndromes\n",
    "    for i in range(15):\n",
    "        with CSS_circuit.if_test((x_syndromes,i+1)):\n",
    "            CSS_circuit.x(encoding_qubits[i])\n",
    "    \n",
    "    # corrects Z-errors by examination of Z-syndromes\n",
    "    for i in range(15):\n",
    "        with CSS_circuit.if_test((z_syndromes,i+1)):\n",
    "            CSS_circuit.z(encoding_qubits[i])\n",
    "\n",
    "    # measures the output\n",
    "    CSS_circuit.measure(encoding_qubits, output_measurements)\n",
    "\n",
    "    return CSS_circuit\n",
    "    "
   ]
  },
  {
   "cell_type": "markdown",
   "id": "d23c1eeb",
   "metadata": {},
   "source": [
    "The most interesting part of the computation is to test how often we are able to properly correct our errors as the probability $p$ varies. We should expect that when $p$ is low, as there will only be 0 or 1 qubit errors, we should be able to properly correct for the errors. But as $p$ increases past the probability where we expect to get 2 or more qubit errors, we are less likely to be successful. \n",
    "\n",
    "The expected number of errors is given by $p\\cdot15$, so when $p$ is below $1/15 \\approx 0.067$, we should expect to succesfully correct more likely than not, and as $p$ increases above 1/15 we should expect to start failing at error correction much more frequently.\n",
    "\n",
    "We will run the above circuits using Qiskit Aer and include the \"success rate\", which is the percentage of rounds where the measured output after correction is one of the component vectors of the logical all-zero state. When $p$ is low, this should be close to 1, and when $p$ is high, this should be close to 0. Note that running the non-numpy version for $n$ rounds is significantly slower than running the numpy version for 1 round $n$ times, but for completeness, we illustrate that both work. "
   ]
  },
  {
   "cell_type": "markdown",
   "id": "5536a21c",
   "metadata": {},
   "source": [
    "First, we will test using the non-numpy implementation the extreme cases, where $p = 0$ and $p \\approx 1/3$, for 10 rounds each."
   ]
  },
  {
   "cell_type": "code",
   "execution_count": 61,
   "id": "bee1fd9f",
   "metadata": {},
   "outputs": [
    {
     "name": "stdout",
     "output_type": "stream",
     "text": [
      "1.0\n"
     ]
    }
   ],
   "source": [
    "p = 0.00\n",
    "\n",
    "simulator = AerSimulator()\n",
    "\n",
    "rounds = 10\n",
    "\n",
    "compiled_circuit = transpile(CSS_correction(p), simulator)\n",
    "\n",
    "job = simulator.run(compiled_circuit, shots = rounds)\n",
    "\n",
    "counts = job.result().get_counts()\n",
    "\n",
    "success = 0.0\n",
    "\n",
    "for key in counts:\n",
    "    if key[3:18] in logical_zero_components:\n",
    "        success += counts[key]\n",
    "\n",
    "print(success/rounds)\n"
   ]
  },
  {
   "cell_type": "code",
   "execution_count": 62,
   "id": "98bcf697",
   "metadata": {},
   "outputs": [
    {
     "name": "stdout",
     "output_type": "stream",
     "text": [
      "0.1\n"
     ]
    }
   ],
   "source": [
    "p = 0.3333\n",
    "\n",
    "simulator = AerSimulator()\n",
    "\n",
    "rounds = 10\n",
    "\n",
    "compiled_circuit = transpile(CSS_correction(p), simulator)\n",
    "\n",
    "job = simulator.run(compiled_circuit, shots = rounds)\n",
    "\n",
    "counts = job.result().get_counts()\n",
    "\n",
    "success = 0.0\n",
    "\n",
    "for key in counts:\n",
    "    if key[3:18] in logical_zero_components:\n",
    "        success += counts[key]\n",
    "\n",
    "print(success/rounds)"
   ]
  },
  {
   "cell_type": "markdown",
   "id": "f35ffe87",
   "metadata": {},
   "source": [
    "Next, we use the numpy implementation 100 times (for 1 round each in the Aer simulator) for values of $p$ which are closer to the boundary, $p = 0.04$ and $p = 0.08$. "
   ]
  },
  {
   "cell_type": "code",
   "execution_count": 63,
   "id": "5e963476",
   "metadata": {},
   "outputs": [
    {
     "name": "stdout",
     "output_type": "stream",
     "text": [
      "0.91\n"
     ]
    }
   ],
   "source": [
    "p = 0.04\n",
    "\n",
    "simulator = AerSimulator()\n",
    "\n",
    "success = 0.0\n",
    "totalrounds = 100\n",
    "\n",
    "for i in range(totalrounds):\n",
    "    rounds = 1\n",
    "    compiled_circuit = transpile(CSS_correction_numpy(p), simulator)\n",
    "    job = simulator.run(compiled_circuit, shots = rounds)\n",
    "    counts = job.result().get_counts()\n",
    "    for key in counts:\n",
    "        if key[:15] in logical_zero_components:\n",
    "            success += counts[key]\n",
    "\n",
    "print(success/totalrounds)"
   ]
  },
  {
   "cell_type": "code",
   "execution_count": 64,
   "id": "1f44ce9f",
   "metadata": {},
   "outputs": [
    {
     "name": "stdout",
     "output_type": "stream",
     "text": [
      "0.64\n"
     ]
    }
   ],
   "source": [
    "p = 0.08\n",
    "\n",
    "simulator = AerSimulator()\n",
    "\n",
    "success = 0.0\n",
    "totalrounds = 100\n",
    "\n",
    "for i in range(totalrounds):\n",
    "    \n",
    "    rounds = 1\n",
    "    compiled_circuit = transpile(CSS_correction_numpy(p), simulator)\n",
    "    job = simulator.run(compiled_circuit, shots = rounds)\n",
    "    counts = job.result().get_counts()\n",
    "    for key in counts:\n",
    "        if key[:15] in logical_zero_components:\n",
    "            success += counts[key]\n",
    "\n",
    "print(success/totalrounds)"
   ]
  },
  {
   "cell_type": "markdown",
   "id": "b5cd2e0f",
   "metadata": {},
   "source": [
    "For fun, it is interesting to verify that our Pauli errors are genuinely introducing Pauli errors. We do so below, by running pauli_error(.2) for 1000 rounds and measuring the output. We should expect an output of 1 (corresponding to an X or Y error) roughly $2p \\cdot 1000 = 400$ times, with 200 coming from each possibility, and an output of 0 (corresponding to an identity or Z error) roughly $(1 - 3\\cdot p + p)\\cdot 1000 = 600$ times, with 400 coming from the identity matrix case and 200 from the Z error case. "
   ]
  },
  {
   "cell_type": "code",
   "execution_count": 5,
   "id": "51e0bf6d",
   "metadata": {},
   "outputs": [
    {
     "data": {
      "text/plain": [
       "{'1 00': 203, '0 10': 197, '0 11': 408, '1 01': 192}"
      ]
     },
     "execution_count": 5,
     "metadata": {},
     "output_type": "execute_result"
    }
   ],
   "source": [
    "qr = QuantumRegister(1)\n",
    "ar = AncillaRegister(2)\n",
    "cr = ClassicalRegister(2)\n",
    "output = ClassicalRegister(1)\n",
    "\n",
    "qc = QuantumCircuit(qr, ar, cr, output)\n",
    "\n",
    "qc.compose(pauli_error(0.2), inplace=True, qubits = qr[:] + ar[:], clbits = cr[:])\n",
    "\n",
    "qc.measure(qr, output)\n",
    "\n",
    "simulator = AerSimulator()\n",
    "rounds = 1000\n",
    "compiled_circuit = transpile(qc, simulator)\n",
    "job = simulator.run(compiled_circuit, shots = rounds)\n",
    "counts = job.result().get_counts()\n",
    "\n",
    "counts"
   ]
  },
  {
   "cell_type": "code",
   "execution_count": 10,
   "id": "67994cc9",
   "metadata": {},
   "outputs": [
    {
     "data": {
      "text/plain": [
       "Text(0, 0.5, 'Success probability')"
      ]
     },
     "execution_count": 10,
     "metadata": {},
     "output_type": "execute_result"
    },
    {
     "data": {
      "image/png": "[encoded data removed]",
      "text/plain": [
       "<Figure size 640x480 with 1 Axes>"
      ]
     },
     "metadata": {},
     "output_type": "display_data"
    }
   ],
   "source": [
    "# data plotting\n",
    "\n",
    "simulator = AerSimulator()\n",
    "\n",
    "data_x = []\n",
    "data_y = []\n",
    "\n",
    "totalrounds = 50\n",
    "\n",
    "# varies the value of p\n",
    "for i in range(50):\n",
    "\n",
    "    success = 0.0\n",
    "    p = i/totalrounds*0.30\n",
    "    \n",
    "    # does 10 trials to calculate a value for the success probability given the value of p\n",
    "    for j in range(10):\n",
    "        rounds = 1\n",
    "        compiled_circuit = transpile(CSS_correction_numpy(p), simulator)\n",
    "        job = simulator.run(compiled_circuit, shots = rounds)\n",
    "        counts = job.result().get_counts()\n",
    "        for key in counts:\n",
    "            if key[:15] in logical_zero_components:\n",
    "                success += counts[key]\n",
    "\n",
    "    success_probability = success/10\n",
    "        \n",
    "    data_x.append(p)\n",
    "    data_y.append(success_probability)\n",
    "\n",
    "plt.scatter(data_x, data_y)\n",
    "plt.xlabel(\"p\")\n",
    "plt.ylabel(\"Success probability\")\n"
   ]
  }
 ],
 "metadata": {
  "kernelspec": {
   "display_name": "Python 3",
   "language": "python",
   "name": "python3"
  },
  "language_info": {
   "codemirror_mode": {
    "name": "ipython",
    "version": 3
   },
   "file_extension": ".py",
   "mimetype": "text/x-python",
   "name": "python",
   "nbconvert_exporter": "python",
   "pygments_lexer": "ipython3",
   "version": "3.13.2"
  }
 },
 "nbformat": 4,
 "nbformat_minor": 5
}
